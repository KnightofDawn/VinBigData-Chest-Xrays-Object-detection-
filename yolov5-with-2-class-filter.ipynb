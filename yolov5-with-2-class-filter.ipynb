{
 "cells": [
  {
   "cell_type": "markdown",
   "metadata": {
    "papermill": {
     "duration": 0.009599,
     "end_time": "2021-03-22T16:14:19.007547",
     "exception": false,
     "start_time": "2021-03-22T16:14:18.997948",
     "status": "completed"
    },
    "tags": []
   },
   "source": [
    "Training notebook:\n",
    "https://www.kaggle.com/mostafaibrahim17/yolov5-vinbigdata\n",
    "\n",
    "Credits:\n",
    "https://www.kaggle.com/awsaf49/vinbigdata-2-class-filter\n",
    "\n",
    "https://www.kaggle.com/awsaf49/vinbigdata-cxr-ad-yolov5-14-class-infer\n",
    "\n",
    "https://www.kaggle.com/awsaf49/vinbigdata-cxr-ad-yolov5-14-class-train"
   ]
  },
  {
   "cell_type": "code",
   "execution_count": 1,
   "metadata": {
    "_cell_guid": "b1076dfc-b9ad-4769-8c92-a6c4dae69d19",
    "_uuid": "8f2839f25d086af736a60e9eeb907d3b93b6e0e5",
    "execution": {
     "iopub.execute_input": "2021-03-22T16:14:19.031354Z",
     "iopub.status.busy": "2021-03-22T16:14:19.030380Z",
     "iopub.status.idle": "2021-03-22T16:14:19.033451Z",
     "shell.execute_reply": "2021-03-22T16:14:19.033936Z"
    },
    "papermill": {
     "duration": 0.017458,
     "end_time": "2021-03-22T16:14:19.034245",
     "exception": false,
     "start_time": "2021-03-22T16:14:19.016787",
     "status": "completed"
    },
    "tags": []
   },
   "outputs": [],
   "source": [
    "import numpy as np # linear algebra\n",
    "import pandas as pd # data processing, CSV file I/O (e.g. pd.read_csv)\n",
    "import os\n",
    "from glob import glob\n",
    "import shutil"
   ]
  },
  {
   "cell_type": "code",
   "execution_count": 2,
   "metadata": {
    "execution": {
     "iopub.execute_input": "2021-03-22T16:14:19.057364Z",
     "iopub.status.busy": "2021-03-22T16:14:19.056747Z",
     "iopub.status.idle": "2021-03-22T16:14:19.118277Z",
     "shell.execute_reply": "2021-03-22T16:14:19.117625Z"
    },
    "papermill": {
     "duration": 0.075212,
     "end_time": "2021-03-22T16:14:19.118425",
     "exception": false,
     "start_time": "2021-03-22T16:14:19.043213",
     "status": "completed"
    },
    "tags": []
   },
   "outputs": [],
   "source": [
    "# load yolo submission\n",
    "yolo = pd.read_csv('../input/yolo169/submission_2.csv')\n",
    "effnetb6 = pd.read_csv('../input/vinbigdata-2class-prediction/2-cls test pred.csv') # AUC:0.98"
   ]
  },
  {
   "cell_type": "code",
   "execution_count": 3,
   "metadata": {
    "execution": {
     "iopub.execute_input": "2021-03-22T16:14:19.147944Z",
     "iopub.status.busy": "2021-03-22T16:14:19.147222Z",
     "iopub.status.idle": "2021-03-22T16:14:19.163822Z",
     "shell.execute_reply": "2021-03-22T16:14:19.163259Z"
    },
    "papermill": {
     "duration": 0.036958,
     "end_time": "2021-03-22T16:14:19.163959",
     "exception": false,
     "start_time": "2021-03-22T16:14:19.127001",
     "status": "completed"
    },
    "tags": []
   },
   "outputs": [
    {
     "data": {
      "text/html": [
       "<div>\n",
       "<style scoped>\n",
       "    .dataframe tbody tr th:only-of-type {\n",
       "        vertical-align: middle;\n",
       "    }\n",
       "\n",
       "    .dataframe tbody tr th {\n",
       "        vertical-align: top;\n",
       "    }\n",
       "\n",
       "    .dataframe thead th {\n",
       "        text-align: right;\n",
       "    }\n",
       "</style>\n",
       "<table border=\"1\" class=\"dataframe\">\n",
       "  <thead>\n",
       "    <tr style=\"text-align: right;\">\n",
       "      <th></th>\n",
       "      <th>image_id</th>\n",
       "      <th>PredictionString</th>\n",
       "    </tr>\n",
       "  </thead>\n",
       "  <tbody>\n",
       "    <tr>\n",
       "      <th>0</th>\n",
       "      <td>83caa8a85e03606cf57e49147d7ac569</td>\n",
       "      <td>3 0.7 792 1181 1760 1564</td>\n",
       "    </tr>\n",
       "    <tr>\n",
       "      <th>1</th>\n",
       "      <td>7550347fa2bb96c2354a3716dfa3a69c</td>\n",
       "      <td>5 0.7 1735 1161 2226 2134</td>\n",
       "    </tr>\n",
       "    <tr>\n",
       "      <th>2</th>\n",
       "      <td>74b23792db329cff5843e36efb8aa65a</td>\n",
       "      <td>14 1 0 0 1 1</td>\n",
       "    </tr>\n",
       "    <tr>\n",
       "      <th>3</th>\n",
       "      <td>94568a546be103177cb582d3e91cd2d8</td>\n",
       "      <td>0 0.7 989 1025 1215 1334 3 0.8 643 1628 1503 1932</td>\n",
       "    </tr>\n",
       "    <tr>\n",
       "      <th>4</th>\n",
       "      <td>6da36354fc904b63bc03eb3884e0c35c</td>\n",
       "      <td>13 0.2 1510 1132 1618 1281 11 0.2 1305 297 150...</td>\n",
       "    </tr>\n",
       "  </tbody>\n",
       "</table>\n",
       "</div>"
      ],
      "text/plain": [
       "                           image_id  \\\n",
       "0  83caa8a85e03606cf57e49147d7ac569   \n",
       "1  7550347fa2bb96c2354a3716dfa3a69c   \n",
       "2  74b23792db329cff5843e36efb8aa65a   \n",
       "3  94568a546be103177cb582d3e91cd2d8   \n",
       "4  6da36354fc904b63bc03eb3884e0c35c   \n",
       "\n",
       "                                    PredictionString  \n",
       "0                           3 0.7 792 1181 1760 1564  \n",
       "1                          5 0.7 1735 1161 2226 2134  \n",
       "2                                       14 1 0 0 1 1  \n",
       "3  0 0.7 989 1025 1215 1334 3 0.8 643 1628 1503 1932  \n",
       "4  13 0.2 1510 1132 1618 1281 11 0.2 1305 297 150...  "
      ]
     },
     "execution_count": 3,
     "metadata": {},
     "output_type": "execute_result"
    }
   ],
   "source": [
    "yolo.head()"
   ]
  },
  {
   "cell_type": "code",
   "execution_count": 4,
   "metadata": {
    "execution": {
     "iopub.execute_input": "2021-03-22T16:14:19.192376Z",
     "iopub.status.busy": "2021-03-22T16:14:19.191665Z",
     "iopub.status.idle": "2021-03-22T16:14:19.195725Z",
     "shell.execute_reply": "2021-03-22T16:14:19.196254Z"
    },
    "papermill": {
     "duration": 0.022781,
     "end_time": "2021-03-22T16:14:19.196424",
     "exception": false,
     "start_time": "2021-03-22T16:14:19.173643",
     "status": "completed"
    },
    "tags": []
   },
   "outputs": [
    {
     "data": {
      "text/html": [
       "<div>\n",
       "<style scoped>\n",
       "    .dataframe tbody tr th:only-of-type {\n",
       "        vertical-align: middle;\n",
       "    }\n",
       "\n",
       "    .dataframe tbody tr th {\n",
       "        vertical-align: top;\n",
       "    }\n",
       "\n",
       "    .dataframe thead th {\n",
       "        text-align: right;\n",
       "    }\n",
       "</style>\n",
       "<table border=\"1\" class=\"dataframe\">\n",
       "  <thead>\n",
       "    <tr style=\"text-align: right;\">\n",
       "      <th></th>\n",
       "      <th>image_id</th>\n",
       "      <th>target</th>\n",
       "    </tr>\n",
       "  </thead>\n",
       "  <tbody>\n",
       "    <tr>\n",
       "      <th>0</th>\n",
       "      <td>002a34c58c5b758217ed1f584ccbcfe9</td>\n",
       "      <td>0.013326</td>\n",
       "    </tr>\n",
       "    <tr>\n",
       "      <th>1</th>\n",
       "      <td>004f33259ee4aef671c2b95d54e4be68</td>\n",
       "      <td>0.037235</td>\n",
       "    </tr>\n",
       "    <tr>\n",
       "      <th>2</th>\n",
       "      <td>008bdde2af2462e86fd373a445d0f4cd</td>\n",
       "      <td>0.939700</td>\n",
       "    </tr>\n",
       "    <tr>\n",
       "      <th>3</th>\n",
       "      <td>009bc039326338823ca3aa84381f17f1</td>\n",
       "      <td>0.123799</td>\n",
       "    </tr>\n",
       "    <tr>\n",
       "      <th>4</th>\n",
       "      <td>00a2145de1886cb9eb88869c85d74080</td>\n",
       "      <td>0.654006</td>\n",
       "    </tr>\n",
       "  </tbody>\n",
       "</table>\n",
       "</div>"
      ],
      "text/plain": [
       "                           image_id    target\n",
       "0  002a34c58c5b758217ed1f584ccbcfe9  0.013326\n",
       "1  004f33259ee4aef671c2b95d54e4be68  0.037235\n",
       "2  008bdde2af2462e86fd373a445d0f4cd  0.939700\n",
       "3  009bc039326338823ca3aa84381f17f1  0.123799\n",
       "4  00a2145de1886cb9eb88869c85d74080  0.654006"
      ]
     },
     "execution_count": 4,
     "metadata": {},
     "output_type": "execute_result"
    }
   ],
   "source": [
    "effnetb6.head()"
   ]
  },
  {
   "cell_type": "code",
   "execution_count": 5,
   "metadata": {
    "execution": {
     "iopub.execute_input": "2021-03-22T16:14:19.225508Z",
     "iopub.status.busy": "2021-03-22T16:14:19.223769Z",
     "iopub.status.idle": "2021-03-22T16:14:19.239716Z",
     "shell.execute_reply": "2021-03-22T16:14:19.240260Z"
    },
    "papermill": {
     "duration": 0.034125,
     "end_time": "2021-03-22T16:14:19.240443",
     "exception": false,
     "start_time": "2021-03-22T16:14:19.206318",
     "status": "completed"
    },
    "tags": []
   },
   "outputs": [
    {
     "data": {
      "text/html": [
       "<div>\n",
       "<style scoped>\n",
       "    .dataframe tbody tr th:only-of-type {\n",
       "        vertical-align: middle;\n",
       "    }\n",
       "\n",
       "    .dataframe tbody tr th {\n",
       "        vertical-align: top;\n",
       "    }\n",
       "\n",
       "    .dataframe thead th {\n",
       "        text-align: right;\n",
       "    }\n",
       "</style>\n",
       "<table border=\"1\" class=\"dataframe\">\n",
       "  <thead>\n",
       "    <tr style=\"text-align: right;\">\n",
       "      <th></th>\n",
       "      <th>image_id</th>\n",
       "      <th>PredictionString</th>\n",
       "      <th>target</th>\n",
       "    </tr>\n",
       "  </thead>\n",
       "  <tbody>\n",
       "    <tr>\n",
       "      <th>0</th>\n",
       "      <td>83caa8a85e03606cf57e49147d7ac569</td>\n",
       "      <td>3 0.7 792 1181 1760 1564</td>\n",
       "      <td>0.970583</td>\n",
       "    </tr>\n",
       "    <tr>\n",
       "      <th>1</th>\n",
       "      <td>7550347fa2bb96c2354a3716dfa3a69c</td>\n",
       "      <td>5 0.7 1735 1161 2226 2134</td>\n",
       "      <td>0.039873</td>\n",
       "    </tr>\n",
       "    <tr>\n",
       "      <th>2</th>\n",
       "      <td>74b23792db329cff5843e36efb8aa65a</td>\n",
       "      <td>14 1 0 0 1 1</td>\n",
       "      <td>0.010240</td>\n",
       "    </tr>\n",
       "    <tr>\n",
       "      <th>3</th>\n",
       "      <td>94568a546be103177cb582d3e91cd2d8</td>\n",
       "      <td>0 0.7 989 1025 1215 1334 3 0.8 643 1628 1503 1932</td>\n",
       "      <td>0.065679</td>\n",
       "    </tr>\n",
       "    <tr>\n",
       "      <th>4</th>\n",
       "      <td>6da36354fc904b63bc03eb3884e0c35c</td>\n",
       "      <td>13 0.2 1510 1132 1618 1281 11 0.2 1305 297 150...</td>\n",
       "      <td>0.838772</td>\n",
       "    </tr>\n",
       "  </tbody>\n",
       "</table>\n",
       "</div>"
      ],
      "text/plain": [
       "                           image_id  \\\n",
       "0  83caa8a85e03606cf57e49147d7ac569   \n",
       "1  7550347fa2bb96c2354a3716dfa3a69c   \n",
       "2  74b23792db329cff5843e36efb8aa65a   \n",
       "3  94568a546be103177cb582d3e91cd2d8   \n",
       "4  6da36354fc904b63bc03eb3884e0c35c   \n",
       "\n",
       "                                    PredictionString    target  \n",
       "0                           3 0.7 792 1181 1760 1564  0.970583  \n",
       "1                          5 0.7 1735 1161 2226 2134  0.039873  \n",
       "2                                       14 1 0 0 1 1  0.010240  \n",
       "3  0 0.7 989 1025 1215 1334 3 0.8 643 1628 1503 1932  0.065679  \n",
       "4  13 0.2 1510 1132 1618 1281 11 0.2 1305 297 150...  0.838772  "
      ]
     },
     "execution_count": 5,
     "metadata": {},
     "output_type": "execute_result"
    }
   ],
   "source": [
    "pred = pd.merge(yolo, effnetb6, on = 'image_id', how = 'left')\n",
    "pred.head()"
   ]
  },
  {
   "cell_type": "code",
   "execution_count": 6,
   "metadata": {
    "execution": {
     "iopub.execute_input": "2021-03-22T16:14:19.265043Z",
     "iopub.status.busy": "2021-03-22T16:14:19.264381Z",
     "iopub.status.idle": "2021-03-22T16:14:19.268716Z",
     "shell.execute_reply": "2021-03-22T16:14:19.268100Z"
    },
    "papermill": {
     "duration": 0.017716,
     "end_time": "2021-03-22T16:14:19.268861",
     "exception": false,
     "start_time": "2021-03-22T16:14:19.251145",
     "status": "completed"
    },
    "tags": []
   },
   "outputs": [],
   "source": [
    "low_thr  = 0.08\n",
    "high_thr = 0.95"
   ]
  },
  {
   "cell_type": "code",
   "execution_count": 7,
   "metadata": {
    "execution": {
     "iopub.execute_input": "2021-03-22T16:14:19.293335Z",
     "iopub.status.busy": "2021-03-22T16:14:19.292677Z",
     "iopub.status.idle": "2021-03-22T16:14:19.298009Z",
     "shell.execute_reply": "2021-03-22T16:14:19.298598Z"
    },
    "papermill": {
     "duration": 0.019219,
     "end_time": "2021-03-22T16:14:19.298787",
     "exception": false,
     "start_time": "2021-03-22T16:14:19.279568",
     "status": "completed"
    },
    "tags": []
   },
   "outputs": [],
   "source": [
    "def filter_2cls(row, low_thr=low_thr, high_thr=high_thr):\n",
    "    prob = row['target']\n",
    "    if prob<low_thr:\n",
    "        ## Less chance of having any disease\n",
    "        row['PredictionString'] = '14 1 0 0 1 1'\n",
    "    elif low_thr<=prob<high_thr:\n",
    "        ## More change of having any diesease\n",
    "        row['PredictionString']+=f' 14 {prob} 0 0 1 1'\n",
    "    elif high_thr<=prob:\n",
    "        ## Good chance of having any disease so believe in object detection model\n",
    "        row['PredictionString'] = row['PredictionString']\n",
    "    else:\n",
    "        raise ValueError('Prediction must be from [0-1]')\n",
    "    return row"
   ]
  },
  {
   "cell_type": "code",
   "execution_count": 8,
   "metadata": {
    "execution": {
     "iopub.execute_input": "2021-03-22T16:14:19.324072Z",
     "iopub.status.busy": "2021-03-22T16:14:19.323281Z",
     "iopub.status.idle": "2021-03-22T16:14:19.611150Z",
     "shell.execute_reply": "2021-03-22T16:14:19.611713Z"
    },
    "papermill": {
     "duration": 0.302049,
     "end_time": "2021-03-22T16:14:19.611899",
     "exception": false,
     "start_time": "2021-03-22T16:14:19.309850",
     "status": "completed"
    },
    "tags": []
   },
   "outputs": [
    {
     "data": {
      "text/html": [
       "<div>\n",
       "<style scoped>\n",
       "    .dataframe tbody tr th:only-of-type {\n",
       "        vertical-align: middle;\n",
       "    }\n",
       "\n",
       "    .dataframe tbody tr th {\n",
       "        vertical-align: top;\n",
       "    }\n",
       "\n",
       "    .dataframe thead th {\n",
       "        text-align: right;\n",
       "    }\n",
       "</style>\n",
       "<table border=\"1\" class=\"dataframe\">\n",
       "  <thead>\n",
       "    <tr style=\"text-align: right;\">\n",
       "      <th></th>\n",
       "      <th>image_id</th>\n",
       "      <th>PredictionString</th>\n",
       "      <th>target</th>\n",
       "    </tr>\n",
       "  </thead>\n",
       "  <tbody>\n",
       "    <tr>\n",
       "      <th>0</th>\n",
       "      <td>83caa8a85e03606cf57e49147d7ac569</td>\n",
       "      <td>3 0.7 792 1181 1760 1564</td>\n",
       "      <td>0.970583</td>\n",
       "    </tr>\n",
       "    <tr>\n",
       "      <th>1</th>\n",
       "      <td>7550347fa2bb96c2354a3716dfa3a69c</td>\n",
       "      <td>14 1 0 0 1 1</td>\n",
       "      <td>0.039873</td>\n",
       "    </tr>\n",
       "    <tr>\n",
       "      <th>2</th>\n",
       "      <td>74b23792db329cff5843e36efb8aa65a</td>\n",
       "      <td>14 1 0 0 1 1</td>\n",
       "      <td>0.010240</td>\n",
       "    </tr>\n",
       "    <tr>\n",
       "      <th>3</th>\n",
       "      <td>94568a546be103177cb582d3e91cd2d8</td>\n",
       "      <td>14 1 0 0 1 1</td>\n",
       "      <td>0.065679</td>\n",
       "    </tr>\n",
       "    <tr>\n",
       "      <th>4</th>\n",
       "      <td>6da36354fc904b63bc03eb3884e0c35c</td>\n",
       "      <td>13 0.2 1510 1132 1618 1281 11 0.2 1305 297 150...</td>\n",
       "      <td>0.838772</td>\n",
       "    </tr>\n",
       "  </tbody>\n",
       "</table>\n",
       "</div>"
      ],
      "text/plain": [
       "                           image_id  \\\n",
       "0  83caa8a85e03606cf57e49147d7ac569   \n",
       "1  7550347fa2bb96c2354a3716dfa3a69c   \n",
       "2  74b23792db329cff5843e36efb8aa65a   \n",
       "3  94568a546be103177cb582d3e91cd2d8   \n",
       "4  6da36354fc904b63bc03eb3884e0c35c   \n",
       "\n",
       "                                    PredictionString    target  \n",
       "0                           3 0.7 792 1181 1760 1564  0.970583  \n",
       "1                                       14 1 0 0 1 1  0.039873  \n",
       "2                                       14 1 0 0 1 1  0.010240  \n",
       "3                                       14 1 0 0 1 1  0.065679  \n",
       "4  13 0.2 1510 1132 1618 1281 11 0.2 1305 297 150...  0.838772  "
      ]
     },
     "execution_count": 8,
     "metadata": {},
     "output_type": "execute_result"
    }
   ],
   "source": [
    "sub = pred.apply(filter_2cls, axis=1)\n",
    "sub.head()"
   ]
  },
  {
   "cell_type": "code",
   "execution_count": 9,
   "metadata": {
    "execution": {
     "iopub.execute_input": "2021-03-22T16:14:19.638034Z",
     "iopub.status.busy": "2021-03-22T16:14:19.637418Z",
     "iopub.status.idle": "2021-03-22T16:14:19.661586Z",
     "shell.execute_reply": "2021-03-22T16:14:19.662096Z"
    },
    "papermill": {
     "duration": 0.038897,
     "end_time": "2021-03-22T16:14:19.662288",
     "exception": false,
     "start_time": "2021-03-22T16:14:19.623391",
     "status": "completed"
    },
    "tags": []
   },
   "outputs": [],
   "source": [
    "sub[['image_id', 'PredictionString']].to_csv('submission.csv',index = False)"
   ]
  },
  {
   "cell_type": "code",
   "execution_count": null,
   "metadata": {
    "papermill": {
     "duration": 0.011263,
     "end_time": "2021-03-22T16:14:19.685203",
     "exception": false,
     "start_time": "2021-03-22T16:14:19.673940",
     "status": "completed"
    },
    "tags": []
   },
   "outputs": [],
   "source": []
  },
  {
   "cell_type": "code",
   "execution_count": null,
   "metadata": {
    "papermill": {
     "duration": 0.011095,
     "end_time": "2021-03-22T16:14:19.707878",
     "exception": false,
     "start_time": "2021-03-22T16:14:19.696783",
     "status": "completed"
    },
    "tags": []
   },
   "outputs": [],
   "source": []
  },
  {
   "cell_type": "code",
   "execution_count": null,
   "metadata": {
    "papermill": {
     "duration": 0.011142,
     "end_time": "2021-03-22T16:14:19.730537",
     "exception": false,
     "start_time": "2021-03-22T16:14:19.719395",
     "status": "completed"
    },
    "tags": []
   },
   "outputs": [],
   "source": []
  }
 ],
 "metadata": {
  "kernelspec": {
   "display_name": "Python 3",
   "language": "python",
   "name": "python3"
  },
  "language_info": {
   "codemirror_mode": {
    "name": "ipython",
    "version": 3
   },
   "file_extension": ".py",
   "mimetype": "text/x-python",
   "name": "python",
   "nbconvert_exporter": "python",
   "pygments_lexer": "ipython3",
   "version": "3.7.9"
  },
  "papermill": {
   "default_parameters": {},
   "duration": 7.175617,
   "end_time": "2021-03-22T16:14:20.251852",
   "environment_variables": {},
   "exception": null,
   "input_path": "__notebook__.ipynb",
   "output_path": "__notebook__.ipynb",
   "parameters": {},
   "start_time": "2021-03-22T16:14:13.076235",
   "version": "2.2.2"
  }
 },
 "nbformat": 4,
 "nbformat_minor": 4
}
